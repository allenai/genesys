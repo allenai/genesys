{
 "cells": [
  {
   "cell_type": "code",
   "execution_count": 1,
   "id": "e4ce8e9c-6498-4e67-a885-82ab70a2abad",
   "metadata": {},
   "outputs": [],
   "source": [
    "import sys \n",
    "sys.path.append('..')\n",
    "\n",
    "from model_discovery import BuildEvolution"
   ]
  },
  {
   "cell_type": "code",
   "execution_count": 2,
   "id": "d3fc1634-cf06-4815-9da4-b15cab9feb64",
   "metadata": {},
   "outputs": [
    {
     "name": "stderr",
     "output_type": "stream",
     "text": [
      "INFO:exec_utils.base.DesignerAgent:Agent name=`designer`, model_details={\n",
      "    \"model_name\": \"gpt-4o-2024-05-13\",\n",
      "    \"max_output_tokens\": 1500\n",
      "}\n",
      "INFO:exec_utils.base.DesignerAgent:Set up disk caching, loc=/Users/kyler/.cache/42_DesignerAgent_33d9e308_OpenAIModel_33d9e308\n",
      "INFO:exec_utils.base.ReviewerAgent:Agent name=`reviewer`, model_details={}\n",
      "INFO:exec_utils.base.ReviewerAgent:Set up disk caching, loc=/Users/kyler/.cache/42_ReviewerAgent_8a731619_OpenAIModel_8a731619\n"
     ]
    },
    {
     "name": "stdout",
     "output_type": "stream",
     "text": [
      "<model_discovery.evolution.EvolutionSystem object at 0x7fd6484f6e00>\n"
     ]
    }
   ],
   "source": [
    "evolution_system = BuildEvolution(\n",
    "    scales='10m,75',\n",
    "    cache_type='diskcache'\n",
    ")\n",
    "print(evolution_system)"
   ]
  },
  {
   "cell_type": "code",
   "execution_count": 3,
   "id": "98a770bf-acc5-4f65-9b36-c931f69ceaab",
   "metadata": {},
   "outputs": [
    {
     "name": "stdout",
     "output_type": "stream",
     "text": [
      "10m\n",
      "75\n"
     ]
    }
   ],
   "source": [
    "evolution_system('')"
   ]
  },
  {
   "cell_type": "code",
   "execution_count": null,
   "id": "80333ea6-ba05-459f-97ef-0c4146f3a040",
   "metadata": {},
   "outputs": [],
   "source": []
  }
 ],
 "metadata": {
  "kernelspec": {
   "display_name": "Python 3 (ipykernel)",
   "language": "python",
   "name": "python3"
  },
  "language_info": {
   "codemirror_mode": {
    "name": "ipython",
    "version": 3
   },
   "file_extension": ".py",
   "mimetype": "text/x-python",
   "name": "python",
   "nbconvert_exporter": "python",
   "pygments_lexer": "ipython3",
   "version": "3.10.14"
  }
 },
 "nbformat": 4,
 "nbformat_minor": 5
}
