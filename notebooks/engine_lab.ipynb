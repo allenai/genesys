{
 "cells": [
  {
   "cell_type": "markdown",
   "id": "05c57e5c",
   "metadata": {},
   "source": [
    "# Diagnose V Engine"
   ]
  },
  {
   "cell_type": "code",
   "execution_count": null,
   "id": "e4ce8e9c-6498-4e67-a885-82ab70a2abad",
   "metadata": {},
   "outputs": [],
   "source": [
    "import sys \n",
    "sys.path.append('..')\n",
    "\n",
    "from model_discovery import BuildEvolution"
   ]
  },
  {
   "cell_type": "code",
   "execution_count": null,
   "id": "d3fc1634-cf06-4815-9da4-b15cab9feb64",
   "metadata": {},
   "outputs": [],
   "source": [
    "evolution_system = BuildEvolution(\n",
    "    scales='10m,75',\n",
    "    cache_type='diskcache'\n",
    ")\n",
    "print(evolution_system)"
   ]
  },
  {
   "cell_type": "code",
   "execution_count": null,
   "id": "98a770bf-acc5-4f65-9b36-c931f69ceaab",
   "metadata": {},
   "outputs": [],
   "source": [
    "evolution_system('')"
   ]
  },
  {
   "cell_type": "markdown",
   "id": "c8482cc7",
   "metadata": {},
   "source": [
    "# Remote DB"
   ]
  },
  {
   "cell_type": "code",
   "execution_count": 1,
   "id": "80333ea6-ba05-459f-97ef-0c4146f3a040",
   "metadata": {},
   "outputs": [
    {
     "ename": "ModuleNotFoundError",
     "evalue": "No module named 'exec_utils'",
     "output_type": "error",
     "traceback": [
      "\u001b[0;31m---------------------------------------------------------------------------\u001b[0m",
      "\u001b[0;31mModuleNotFoundError\u001b[0m                       Traceback (most recent call last)",
      "Cell \u001b[0;32mIn[1], line 4\u001b[0m\n\u001b[1;32m      1\u001b[0m \u001b[38;5;28;01mimport\u001b[39;00m \u001b[38;5;21;01msys\u001b[39;00m \n\u001b[1;32m      2\u001b[0m sys\u001b[38;5;241m.\u001b[39mpath\u001b[38;5;241m.\u001b[39mappend(\u001b[38;5;124m'\u001b[39m\u001b[38;5;124m..\u001b[39m\u001b[38;5;124m'\u001b[39m)\n\u001b[0;32m----> 4\u001b[0m \u001b[38;5;28;01mfrom\u001b[39;00m \u001b[38;5;21;01mmodel_discovery\u001b[39;00m \u001b[38;5;28;01mimport\u001b[39;00m BuildEvolution\n\u001b[1;32m      6\u001b[0m params\u001b[38;5;241m=\u001b[39m{\n\u001b[1;32m      7\u001b[0m     \u001b[38;5;124m'\u001b[39m\u001b[38;5;124mevoname\u001b[39m\u001b[38;5;124m'\u001b[39m:\u001b[38;5;124m'\u001b[39m\u001b[38;5;124mtest_evo_000\u001b[39m\u001b[38;5;124m'\u001b[39m,\n\u001b[1;32m      8\u001b[0m     \u001b[38;5;124m'\u001b[39m\u001b[38;5;124muse_remote_db\u001b[39m\u001b[38;5;124m'\u001b[39m:\u001b[38;5;28;01mTrue\u001b[39;00m,\n\u001b[1;32m      9\u001b[0m }\n\u001b[1;32m     10\u001b[0m evosys \u001b[38;5;241m=\u001b[39m BuildEvolution(\n\u001b[1;32m     11\u001b[0m     params\u001b[38;5;241m=\u001b[39mparams,\n\u001b[1;32m     12\u001b[0m     do_cache\u001b[38;5;241m=\u001b[39m\u001b[38;5;28;01mFalse\u001b[39;00m,\n\u001b[1;32m     13\u001b[0m )\n",
      "File \u001b[0;32m/media/8TBNVME/home/junyanc/model_discovery/notebooks/../model_discovery/__init__.py:1\u001b[0m\n\u001b[0;32m----> 1\u001b[0m \u001b[38;5;28;01mfrom\u001b[39;00m \u001b[38;5;21;01m.\u001b[39;00m\u001b[38;5;21;01mevolution\u001b[39;00m \u001b[38;5;28;01mimport\u001b[39;00m \u001b[38;5;241m*\u001b[39m\n\u001b[1;32m      2\u001b[0m \u001b[38;5;28;01mfrom\u001b[39;00m \u001b[38;5;21;01m.\u001b[39;00m\u001b[38;5;21;01msystem\u001b[39;00m \u001b[38;5;28;01mimport\u001b[39;00m \u001b[38;5;241m*\u001b[39m\n",
      "File \u001b[0;32m/media/8TBNVME/home/junyanc/model_discovery/notebooks/../model_discovery/evolution.py:31\u001b[0m\n\u001b[1;32m     29\u001b[0m \u001b[38;5;28;01mimport\u001b[39;00m \u001b[38;5;21;01msys\u001b[39;00m\n\u001b[1;32m     30\u001b[0m \u001b[38;5;28;01mimport\u001b[39;00m \u001b[38;5;21;01mre\u001b[39;00m\n\u001b[0;32m---> 31\u001b[0m \u001b[38;5;28;01mimport\u001b[39;00m \u001b[38;5;21;01mexec_utils\u001b[39;00m\n\u001b[1;32m     32\u001b[0m \u001b[38;5;28;01mimport\u001b[39;00m \u001b[38;5;21;01mpathlib\u001b[39;00m\n\u001b[1;32m     33\u001b[0m \u001b[38;5;28;01mimport\u001b[39;00m \u001b[38;5;21;01mdatetime\u001b[39;00m\n",
      "\u001b[0;31mModuleNotFoundError\u001b[0m: No module named 'exec_utils'"
     ]
    }
   ],
   "source": [
    "import sys \n",
    "sys.path.append('..')\n",
    "\n",
    "from model_discovery import BuildEvolution\n",
    "\n",
    "params={\n",
    "    'evoname':'test_evo_000',\n",
    "    'use_remote_db':True,\n",
    "}\n",
    "evosys = BuildEvolution(\n",
    "    params=params,\n",
    "    do_cache=False,\n",
    ")"
   ]
  }
 ],
 "metadata": {
  "kernelspec": {
   "display_name": "Python 3 (ipykernel)",
   "language": "python",
   "name": "python3"
  },
  "language_info": {
   "codemirror_mode": {
    "name": "ipython",
    "version": 3
   },
   "file_extension": ".py",
   "mimetype": "text/x-python",
   "name": "python",
   "nbconvert_exporter": "python",
   "pygments_lexer": "ipython3",
   "version": "3.12.4"
  }
 },
 "nbformat": 4,
 "nbformat_minor": 5
}
