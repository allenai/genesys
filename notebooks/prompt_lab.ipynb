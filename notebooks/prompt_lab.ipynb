{
 "cells": [
  {
   "cell_type": "markdown",
   "metadata": {},
   "source": [
    "# Place for experimenting the progressive design"
   ]
  },
  {
   "cell_type": "code",
   "execution_count": 1,
   "metadata": {},
   "outputs": [
    {
     "name": "stderr",
     "output_type": "stream",
     "text": [
      "/media/8TBNVME/home/junyanc/model_discovery/notebooks/../model_discovery/model/ops/triton/layer_norm.py:985: FutureWarning: `torch.cuda.amp.custom_fwd(args...)` is deprecated. Please use `torch.amp.custom_fwd(args..., device_type='cuda')` instead.\n",
      "  @custom_fwd\n",
      "/media/8TBNVME/home/junyanc/model_discovery/notebooks/../model_discovery/model/ops/triton/layer_norm.py:1044: FutureWarning: `torch.cuda.amp.custom_bwd(args...)` is deprecated. Please use `torch.amp.custom_bwd(args..., device_type='cuda')` instead.\n",
      "  @custom_bwd\n"
     ]
    },
    {
     "name": "stdout",
     "output_type": "stream",
     "text": [
      "The token has not been saved to the git credentials helper. Pass `add_to_git_credential=True` in this function directly or `--add-to-git-credential` if using via `huggingface-cli` if you want to set the git credential as well.\n",
      "Failed to login to HuggingFace Hub, some datasets may not be available to download.\n"
     ]
    }
   ],
   "source": [
    "import os,sys\n",
    "import yaml\n",
    "import inspect\n",
    "import importlib\n",
    "\n",
    "sys.path.append('..')\n",
    "\n",
    "import model_discovery.utils as U\n",
    "from model_discovery.configs.gam_config import GAMConfig, GAMConfig_14M\n",
    "from model_discovery.model.gab_composer import GABTree,ROOT_UNIT_TEMPLATE,GABUnit\n",
    "# from model_discovery.evolution import  BuildEvolution\n",
    "\n",
    "ckpt_dir = os.environ['CKPT_DIR']\n",
    "db_dir = U.pjoin(ckpt_dir, 'test_composer', 'db')\n",
    "test_tree = GABTree('TestTree', db_dir)\n",
    "\n",
    "prompts_dir='../model_discovery/agents/prompts/'\n",
    "dir_prompt = U.pjoin(prompts_dir, 'prompts.yaml')\n",
    "with open(dir_prompt, 'r') as file:\n",
    "   gu_prompts = yaml.safe_load(file)\n",
    "gab_py = U.read_file(U.pjoin(prompts_dir,'gab_template.py'))\n",
    "gam_py = U.read_file(U.pjoin(prompts_dir,'gam_prompt.py'))\n",
    "GU_TEMPLATE = U.read_file(U.pjoin(prompts_dir,'gu_template.py'))\n",
    "GAB_UNIT=inspect.getsource(GABUnit)"
   ]
  },
  {
   "cell_type": "code",
   "execution_count": 4,
   "metadata": {},
   "outputs": [
    {
     "data": {
      "text/plain": [
       "'# TestTree.py\\n\\nimport torch\\nimport torch.nn as nn\\n\\nfrom model_discovery.model.utils.modules import GABUnit # DO NOT CHANGE THIS IMPORT STATEMENT #\\n\\n\\n# YOU CAN IMPORT MORE MODULES HERE #\\n\\n# YOU CAN DEFINE MORE CLASSES OR FUNCTIONS HERE #\\n\\n\\nclass TestTree(GABUnit): \\n    \"\"\"Generalized Autoregressive Block\\n        Input:        X: (batch, seqlen, embed_dim), Z: {dict of all current intermediate variables}\\n        Output:       Y: (batch, seqlen, embed_dim), Z_: Optional, {dict of *new* intermediate variables to update the current Z}\\n        Constraints:  Causal, differentiable, parameter number, complexity, parallelizable\\n    \"\"\"\\n    def __init__(self, embed_dim: int, device=None, dtype=None,**kwargs): # YOU CAN ADD MORE ARGUMENTS, BUT YOU HAVE TO HAVE embed_dim, device, dtype AS THE ARGUTMENTS #\\n        # argv: list of hyperparameters\\n        factory_kwargs = {\"device\": device, \"dtype\": dtype} # remember to pass it to all nn layers\\n        super().__init__(embed_dim) # DO NOT CHANGE THIS LINE #\\n        \\n        # COMPLETING THE CODE HERE #\\n\\n\\n    # YOU CAN ADD MORE FUNCTIONS HERE #\\n\\n\\n    def _forward(self, X, **Z): \\n\\n        # COMPLETING THE CODE HERE #\\n        \\n        return X\\n'"
      ]
     },
     "execution_count": 4,
     "metadata": {},
     "output_type": "execute_result"
    }
   ],
   "source": [
    "test_tree.path\n",
    "test_tree.get_source('TestTree')"
   ]
  },
  {
   "cell_type": "code",
   "execution_count": 11,
   "metadata": {},
   "outputs": [
    {
     "name": "stdout",
     "output_type": "stream",
     "text": [
      "\n",
      "**Task:** You are designing an autoregressive model block. Due to its\n",
      "complexity, we will break it into smaller components called **Generalized\n",
      "Autoregressive Block Units (GABUnits)**. \n",
      "\n",
      "Each **GABUnit**: - Accepts a sequence of embeddings `X` and a dictionary of\n",
      "intermediate variables `Z`. - Outputs a sequence of embeddings `Y` and an\n",
      "updated dictionary `Z_`. - If `Z_` is provided, it should be merged into `Z` via\n",
      "`Z.update(Z_)`.\n",
      "\n",
      "**Structure:** - A **GABUnit** inherits from `nn.Module` as follows:\n",
      "\n",
      "```python class GABUnit(nn.Module): \n",
      "    \"\"\" \n",
      "    Instead of directly giving the full implementation of a GAB block, the agent need to \n",
      "    design a series of nested GAB units and construct the full GAB block as a pipeline of these units.\n",
      "\n",
      "    GAB is fractal, like GAB itself, each GAB unit accepts X and Z as input and returns Y and Z as output.\n",
      "    \"\"\" \n",
      "    def __init__(self, embed_dim: int):\n",
      "        super().__init__()\n",
      "        self.embed_dim = embed_dim\n",
      "\n",
      "    def _forward(self, X, **Z):\n",
      "        raise NotImplementedError\n",
      "    \n",
      "    def forward(self, X, Z):\n",
      "        assert len(X.shape) == 3, \"Input shape must be (batch, seqlen, embed_dim)\"\n",
      "        assert X.shape[-1] == self.embed_dim\n",
      "        _params = inspect.signature(self._forward).parameters\n",
      "        _Z = {k: v for k, v in Z.items() if k in _params}\n",
      "        Y = self._forward(X, **_Z)\n",
      "        if isinstance(Y, tuple):\n",
      "            Y, Z_ = Y\n",
      "        else:\n",
      "            Z_ = {}\n",
      "        assert Y.shape == X.shape, f\"GAB Unit must has a sequence with the same shape as input in output, got {Y.shape} instead\"\n",
      "        assert isinstance(Z_, dict), \"Intermediate variables must be stored in a tuple\"\n",
      "        Z.update(Z_) # the new intermediate variables are updated to the current Z\n",
      "        return Y, Z\n",
      " ```\n",
      "\n",
      "- To design a **GABUnit**, complete the blanks in this template:\n",
      "\n",
      "```python # GAB_UNIT_IMPLEMENTATION  # DO NOT CHANGE OR REMOVE THE MAKK HERE, KEEP IT ALWAYS THE FIRST LINE #\n",
      "\n",
      "import torch\n",
      "import torch.nn as nn\n",
      "\n",
      "from model_discovery.model.utils.modules import GABUnit # DO NOT CHANGE THIS IMPORT STATEMENT #\n",
      "\n",
      "\n",
      "# YOU CAN IMPORT MORE MODULES HERE #\n",
      "\n",
      "# YOU CAN DEFINE MORE CLASSES OR FUNCTIONS HERE #\n",
      "\n",
      "\n",
      "class UNIT_NAME(GABUnit): # Replace UNIT_NAME with the unit_name of your unit\n",
      "    \"\"\"Generalized Autoregressive Block\n",
      "        Input:        X: (batch, seqlen, embed_dim), Z: {dict of all current intermediate variables}\n",
      "        Output:       Y: (batch, seqlen, embed_dim), Z_: Optional, {dict of *new* intermediate variables to update the current Z}\n",
      "        Constraints:  Causal, differentiable, parameter number, complexity, parallelizable\n",
      "    \"\"\"\n",
      "    def __init__(self, embed_dim: int, device=None, dtype=None,**kwargs): # YOU CAN ADD MORE ARGUMENTS, BUT YOU HAVE TO HAVE embed_dim, device, dtype AS THE ARGUTMENTS #\n",
      "        # argv: list of hyperparameters\n",
      "        factory_kwargs = {\"device\": device, \"dtype\": dtype} # remember to pass it to all nn layers\n",
      "        super().__init__(embed_dim) # DO NOT CHANGE THIS LINE #\n",
      "        \n",
      "        # COMPLETING THE CODE HERE #\n",
      "\n",
      "        raise NotImplementedError\n",
      "\n",
      "\n",
      "    # YOU CAN ADD MORE FUNCTIONS HERE #\n",
      "\n",
      "\n",
      "    def _forward(self, X, **Z): \n",
      "        \n",
      "        # THE CODE HERE MUST BE COMPLETED #\n",
      "\n",
      "        raise NotImplementedError\n",
      "     ```\n",
      "\n",
      "- **GABUnits** can call other **GABUnits**, enabling the creation of complex\n",
      "  blocks by nesting. However, each unit should remain manageable. If the design\n",
      "  is complex, decompose it into smaller **GABUnits** and nest them. This\n",
      "  encourages a **top-down** design approach, refining one unit at a time.\n",
      "\n",
      "**Rules:** 1. You are allowed to modify only one **GABUnit** at a time. 2.\n",
      "Placeholder code is acceptable for **GABUnits** you plan to implement later. 3.\n",
      "Once a **GABUnit** is designed, it will be tested for correctness. The\n",
      "placeholder units will be initialized as an identity mapping. Ensure that the\n",
      "entire GAB block is correct by the end.\n",
      "\n",
      "**Steps to Follow:** 1. **Analysis:** Explain the intuition and analysis behind\n",
      "the **GABUnit** you are designing. Consider how it can be novel, powerful, and\n",
      "capable of surpassing existing state-of-the-art models. Provide a detailed\n",
      "justification for your design choices. 2. **Plan:** Outline the potential child\n",
      "**GABUnits** you may need to design in future iterations. 3. **Pseudocode:**\n",
      "Present a high-level pseudocode representation of the **GABUnit** you are\n",
      "designing. 4. **Naming:** Choose a meaningful and creative name for the\n",
      "**GABUnit**. For the root **GABUnit**, the name should represent the entire\n",
      "block (e.g., Transformers, Mamba, CausalConv). Wrap the name in this format:\n",
      "```unit_name {unit_name}```. 5. **Implementation:** Provide the full\n",
      "implementation of the **GABUnit** you designed. Ensure that the implementation\n",
      "begins with this marker: `# GAB_UNIT_IMPLEMENTATION` for system recognition. 6.\n",
      "**Config:** List any hyperparameters you introduced in a dict with the following\n",
      "format:\n",
      "\n",
      "```config {\n",
      "    # ADD HYPERPARAMETERS HERE #\n",
      "}\n",
      "```\n",
      "\n",
      "**Guidelines:** 1. **Naming and Placeholders:** Choose meaningful names for\n",
      "**GABUnits** and placeholders. Placeholders should outline the functions of the\n",
      "units you plan to implement later. 2. **Unit Calls:** When calling a\n",
      "**GABUnit**, pass both `X` and `Z` (e.g., `GABUnit(X, **Z)`). 3.\n",
      "**Initialization:** When defining a **GABUnit** in `__init__`, provide type\n",
      "hints (e.g., `self.unit: GABUnit = {unit_name}(**kwargs)`), and allow custom\n",
      "arguments through `kwargs`. 4. **Top-Down Design:** Be patient and design\n",
      "incrementally. Define placeholders for complicated operations and implement them\n",
      "later. Especially for the root **GABUnit**, focus on the big picture first. 5.\n",
      "**Be Innovative:** Avoid copying existing designs, such as the vanilla\n",
      "Transformer block. Focus on originality and aim to surpass current\n",
      "state-of-the-art models.\n",
      "\n",
      "Now, begin your design. Don't rush to complete everything at once. Start by\n",
      "analyzing your design intentions, draft the pseudocode, name your unit\n",
      "creatively, implement the code, and finally, define the configs.\n",
      "\n"
     ]
    }
   ],
   "source": [
    "import model_discovery.agents.prompts.prompts as P\n",
    "importlib.reload(P)\n",
    "\n",
    "gu_system_prompt=P.GU_DESIGNER_SYSTEM.format(GAB_BASE=P.GAB_BASE,GAM_PY=gam_py)\n",
    "start_root_prompt=P.GU_DESIGN_SCRATCH_RAW.format(GAB_UNIT=GAB_UNIT,GU_TEMPLATE=GU_TEMPLATE,ROOT_UNIT_TEMPLATE=ROOT_UNIT_TEMPLATE)\n",
    "\n",
    "print(start_root_prompt)\n"
   ]
  }
 ],
 "metadata": {
  "kernelspec": {
   "display_name": "modis",
   "language": "python",
   "name": "python3"
  },
  "language_info": {
   "codemirror_mode": {
    "name": "ipython",
    "version": 3
   },
   "file_extension": ".py",
   "mimetype": "text/x-python",
   "name": "python",
   "nbconvert_exporter": "python",
   "pygments_lexer": "ipython3",
   "version": "3.12.4"
  }
 },
 "nbformat": 4,
 "nbformat_minor": 2
}
