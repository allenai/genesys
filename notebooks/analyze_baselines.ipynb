{
 "cells": [
  {
   "cell_type": "code",
   "execution_count": 52,
   "metadata": {},
   "outputs": [],
   "source": [
    "import os\n",
    "import json\n",
    "\n",
    "BASEDIR='../model_discovery/model/library/base'\n",
    "\n",
    "def read_reports(baseline):\n",
    "    dir = os.path.join(BASEDIR, baseline,'reports')\n",
    "    reports = {}\n",
    "    for file in os.listdir(dir):\n",
    "        if file.startswith('report_'):\n",
    "            scale = file.split('.')[0].split('_')[1]\n",
    "            with open(os.path.join(dir, file), 'r') as f:\n",
    "                reports[scale]=json.load(f)\n",
    "    return reports\n",
    "\n",
    "def read_eval_reports(baseline):\n",
    "    report=read_reports(baseline)\n",
    "    eval_reports={}\n",
    "    for i in report:\n",
    "        eval_reports[i]=report[i]['eval_results.json']\n",
    "    return eval_reports\n",
    "\n",
    "def read_eval_results(baseline):\n",
    "    reports=read_eval_reports(baseline)\n",
    "    results={}\n",
    "    for i in reports:\n",
    "        results[i]=reports[i]['results']\n",
    "    return results\n",
    "\n",
    "BASELINES = ['gpt2','mamba2','ttt','retnet','rwkv6','RANDOM']\n",
    "\n",
    "gpt2_results=read_eval_results('gpt2')\n",
    "random_results=read_eval_results('RANDOM')['0']"
   ]
  },
  {
   "cell_type": "markdown",
   "metadata": {},
   "source": [
    "#### Print datasets and metrics"
   ]
  },
  {
   "cell_type": "code",
   "execution_count": 63,
   "metadata": {},
   "outputs": [
    {
     "name": "stdout",
     "output_type": "stream",
     "text": [
      "{'acc,none': ['arc_challenge', 'arc_easy', 'blimp_adjunct_island_filtered', 'blimp_anaphor_gender_agreement_filtered', 'blimp_anaphor_number_agreement_filtered', 'blimp_animate_subject_passive_filtered', 'blimp_animate_subject_trans_filtered', 'blimp_causative_filtered', 'blimp_complex_NP_island_filtered', 'blimp_coordinate_structure_constraint_complex_left_branch_filtered', 'blimp_coordinate_structure_constraint_object_extraction_filtered', 'blimp_determiner_noun_agreement_1_filtered', 'blimp_determiner_noun_agreement_2_filtered', 'blimp_determiner_noun_agreement_irregular_1_filtered', 'blimp_determiner_noun_agreement_irregular_2_filtered', 'blimp_determiner_noun_agreement_with_adj_2_filtered', 'blimp_determiner_noun_agreement_with_adj_irregular_1_filtered', 'blimp_determiner_noun_agreement_with_adj_irregular_2_filtered', 'blimp_determiner_noun_agreement_with_adjective_1_filtered', 'blimp_distractor_agreement_relational_noun_filtered', 'blimp_distractor_agreement_relative_clause_filtered', 'blimp_drop_argument_filtered', 'blimp_ellipsis_n_bar_1_filtered', 'blimp_ellipsis_n_bar_2_filtered', 'blimp_existential_there_object_raising_filtered', 'blimp_existential_there_quantifiers_1_filtered', 'blimp_existential_there_quantifiers_2_filtered', 'blimp_existential_there_subject_raising_filtered', 'blimp_expletive_it_object_raising_filtered', 'blimp_inchoative_filtered', 'blimp_intransitive_filtered', 'blimp_irregular_past_participle_adjectives_filtered', 'blimp_irregular_past_participle_verbs_filtered', 'blimp_irregular_plural_subject_verb_agreement_1_filtered', 'blimp_irregular_plural_subject_verb_agreement_2_filtered', 'blimp_left_branch_island_echo_question_filtered', 'blimp_left_branch_island_simple_question_filtered', 'blimp_matrix_question_npi_licensor_present_filtered', 'blimp_npi_present_1_filtered', 'blimp_npi_present_2_filtered', 'blimp_only_npi_licensor_present_filtered', 'blimp_only_npi_scope_filtered', 'blimp_passive_1_filtered', 'blimp_passive_2_filtered', 'blimp_principle_A_c_command_filtered', 'blimp_principle_A_case_1_filtered', 'blimp_principle_A_case_2_filtered', 'blimp_principle_A_domain_1_filtered', 'blimp_principle_A_domain_2_filtered', 'blimp_principle_A_domain_3_filtered', 'blimp_principle_A_reconstruction_filtered', 'blimp_regular_plural_subject_verb_agreement_1_filtered', 'blimp_regular_plural_subject_verb_agreement_2_filtered', 'blimp_sentential_negation_npi_licensor_present_filtered', 'blimp_sentential_negation_npi_scope_filtered', 'blimp_sentential_subject_island_filtered', 'blimp_superlative_quantifiers_1_filtered', 'blimp_superlative_quantifiers_2_filtered', 'blimp_supplement_hypernym', 'blimp_supplement_qa_congruence_easy', 'blimp_supplement_qa_congruence_tricky', 'blimp_supplement_subject_aux_inversion', 'blimp_supplement_turn_taking', 'blimp_tough_vs_raising_1_filtered', 'blimp_tough_vs_raising_2_filtered', 'blimp_transitive_filtered', 'blimp_wh_island_filtered', 'blimp_wh_questions_object_gap_filtered', 'blimp_wh_questions_subject_gap_filtered', 'blimp_wh_questions_subject_gap_long_distance_filtered', 'blimp_wh_vs_that_no_gap_filtered', 'blimp_wh_vs_that_no_gap_long_distance_filtered', 'blimp_wh_vs_that_with_gap_filtered', 'blimp_wh_vs_that_with_gap_long_distance_filtered', 'hellaswag', 'inverse_scaling_hindsight_neglect_10shot', 'inverse_scaling_into_the_unknown', 'inverse_scaling_memo_trap', 'inverse_scaling_modus_tollens', 'inverse_scaling_neqa', 'inverse_scaling_pattern_matching_suppression', 'inverse_scaling_quote_repetition', 'inverse_scaling_redefine_math', 'inverse_scaling_repetitive_algebra', 'inverse_scaling_sig_figs', 'inverse_scaling_winobias_antistereotype', 'lambada_openai', 'mathqa', 'mnli', 'mnli_mismatch', 'mrpc', 'openbookqa', 'piqa', 'qa4mre_2011', 'qa4mre_2012', 'qa4mre_2013', 'qnli', 'qqp', 'rte', 'sciq', 'scrolls_contractnli', 'scrolls_quality', 'sst2', 'swag', 'tinyTruthfulQA', 'winogrande', 'wnli', 'wsc273'], 'acc_norm,none': ['arc_challenge', 'arc_easy', 'hellaswag', 'inverse_scaling_hindsight_neglect_10shot', 'inverse_scaling_into_the_unknown', 'inverse_scaling_memo_trap', 'inverse_scaling_modus_tollens', 'inverse_scaling_neqa', 'inverse_scaling_pattern_matching_suppression', 'inverse_scaling_quote_repetition', 'inverse_scaling_redefine_math', 'inverse_scaling_repetitive_algebra', 'inverse_scaling_sig_figs', 'inverse_scaling_winobias_antistereotype', 'mathqa', 'openbookqa', 'piqa', 'qa4mre_2011', 'qa4mre_2012', 'qa4mre_2013', 'sciq', 'scrolls_contractnli', 'scrolls_quality', 'swag', 'tinyMMLU'], 'mcc,none': ['cola'], 'perplexity,none': ['lambada_openai'], 'em,none': ['scrolls_contractnli', 'scrolls_quality'], 'contains,none': ['squad_completion'], 'exact_match,strict-match': ['tinyGSM8k'], 'exact_match,flexible-extract': ['tinyGSM8k']}\n"
     ]
    }
   ],
   "source": [
    "random_results\n",
    "metrics={}\n",
    "for i in random_results:\n",
    "    res=random_results[i]\n",
    "    alias=res['alias']\n",
    "    for m in res:\n",
    "        if m=='alias': continue\n",
    "        if '_stderr' in m: continue\n",
    "        if m not in metrics:\n",
    "            metrics[m]=[]\n",
    "        metrics[m].append(alias)\n",
    "for m in metrics:\n",
    "    print(m,metrics[m])"
   ]
  },
  {
   "cell_type": "code",
   "execution_count": 60,
   "metadata": {},
   "outputs": [],
   "source": [
    "\n",
    "\n",
    "def readout_results(results,metric):\n",
    "    out={}\n",
    "    for i in results:\n",
    "        res=results[i]\n",
    "        alias=res['alias']\n",
    "        if metric in res:\n",
    "            out[alias]=res[metric]\n",
    "    return out\n",
    "\n",
    "def readout_allresults(allresults,metric):\n",
    "    out={}\n",
    "    for scale in allresults:\n",
    "        results=allresults[scale]\n",
    "        out[scale]=readout_results(results,metric)\n",
    "    return out\n",
    "\n",
    "def avg_results(results,keyword=None):\n",
    "    if keyword:\n",
    "        results=filter_results(results,keyword)\n",
    "    avg=0\n",
    "    for i in results:\n",
    "        avg+=results[i]\n",
    "    return avg/len(results)\n",
    "\n",
    "def filter_results(results,keyword):\n",
    "    out={}\n",
    "    for i in results:\n",
    "        if keyword in i:\n",
    "            out[i]=results[i]\n",
    "    return out\n",
    "\n",
    "gpt2_accs = readout_allresults(gpt2_results,'acc,none')\n",
    "random_acc = readout_results(random_results,'acc,none')"
   ]
  },
  {
   "cell_type": "code",
   "execution_count": 62,
   "metadata": {},
   "outputs": [
    {
     "name": "stdout",
     "output_type": "stream",
     "text": [
      "GPT2 70M: 0.6546198903678867\n",
      "GPT2 14M: 0.6804744525703669\n",
      "GPT2 31M: 0.7142609187492691\n",
      "Random: 0.5899860624855434\n"
     ]
    }
   ],
   "source": [
    "for scale in gpt2_accs:\n",
    "    print(f'GPT2 {scale}:',avg_results(gpt2_accs[scale],'blimp'))\n",
    "print('Random:',avg_results(random_acc,'blimp'))"
   ]
  }
 ],
 "metadata": {
  "kernelspec": {
   "display_name": "base",
   "language": "python",
   "name": "python3"
  },
  "language_info": {
   "codemirror_mode": {
    "name": "ipython",
    "version": 3
   },
   "file_extension": ".py",
   "mimetype": "text/x-python",
   "name": "python",
   "nbconvert_exporter": "python",
   "pygments_lexer": "ipython3",
   "version": "3.12.4"
  }
 },
 "nbformat": 4,
 "nbformat_minor": 2
}
