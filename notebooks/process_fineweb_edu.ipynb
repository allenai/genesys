{
 "cells": [
  {
   "cell_type": "code",
   "execution_count": null,
   "metadata": {},
   "outputs": [],
   "source": [
    "import os\n",
    "import datasets\n",
    "from pathlib import Path\n",
    "from datasets import load_dataset\n",
    "\n",
    "from huggingface_hub import login\n",
    "\n",
    "login()\n",
    "\n",
    "mkdir=os.makedirs\n",
    "\n",
    "export_dir='../data/fineweb_edu_4'\n",
    "\n",
    "FWE_SUBSETS=[\n",
    "    \"CC-MAIN-2013-20\",\n",
    "    \"CC-MAIN-2013-48\",\n",
    "    \"CC-MAIN-2014-10\",\n",
    "    \"CC-MAIN-2014-15\",\n",
    "    \"CC-MAIN-2014-23\",\n",
    "    \"CC-MAIN-2014-35\",\n",
    "    \"CC-MAIN-2014-41\",\n",
    "    \"CC-MAIN-2014-42\",\n",
    "    \"CC-MAIN-2014-49\",\n",
    "    \"CC-MAIN-2014-52\",\n",
    "    \"CC-MAIN-2015-06\",\n",
    "    \"CC-MAIN-2015-11\",\n",
    "    \"CC-MAIN-2015-14\",\n",
    "    \"CC-MAIN-2015-18\",\n",
    "    \"CC-MAIN-2015-22\",\n",
    "    \"CC-MAIN-2015-27\",\n",
    "    \"CC-MAIN-2015-32\",\n",
    "    \"CC-MAIN-2015-35\",\n",
    "    \"CC-MAIN-2015-40\",\n",
    "    \"CC-MAIN-2015-48\",\n",
    "    \"CC-MAIN-2016-07\",\n",
    "    \"CC-MAIN-2016-18\",\n",
    "    \"CC-MAIN-2016-22\",\n",
    "    \"CC-MAIN-2016-26\",\n",
    "    \"CC-MAIN-2016-30\",\n",
    "    \"CC-MAIN-2016-36\",\n",
    "    \"CC-MAIN-2016-40\",\n",
    "    \"CC-MAIN-2016-44\",\n",
    "    \"CC-MAIN-2016-50\",\n",
    "    \"CC-MAIN-2017-04\",\n",
    "    \"CC-MAIN-2017-09\",\n",
    "    \"CC-MAIN-2017-13\",\n",
    "    \"CC-MAIN-2017-17\",\n",
    "    \"CC-MAIN-2017-22\",\n",
    "    \"CC-MAIN-2017-26\",\n",
    "    \"CC-MAIN-2017-30\",\n",
    "    \"CC-MAIN-2017-34\",\n",
    "    \"CC-MAIN-2017-39\",\n",
    "    \"CC-MAIN-2017-43\",\n",
    "    \"CC-MAIN-2017-47\",\n",
    "    \"CC-MAIN-2017-51\",\n",
    "    \"CC-MAIN-2018-05\",\n",
    "    \"CC-MAIN-2018-09\",\n",
    "    \"CC-MAIN-2018-13\",\n",
    "    \"CC-MAIN-2018-17\",\n",
    "    \"CC-MAIN-2018-22\",\n",
    "    \"CC-MAIN-2018-26\",\n",
    "    \"CC-MAIN-2018-30\",\n",
    "    \"CC-MAIN-2018-34\",\n",
    "    \"CC-MAIN-2018-39\",\n",
    "    \"CC-MAIN-2018-43\",\n",
    "    \"CC-MAIN-2018-47\",\n",
    "    \"CC-MAIN-2018-51\",\n",
    "    \"CC-MAIN-2019-04\",\n",
    "    \"CC-MAIN-2019-09\",\n",
    "    \"CC-MAIN-2019-13\",\n",
    "    \"CC-MAIN-2019-18\",\n",
    "    \"CC-MAIN-2019-22\",\n",
    "    \"CC-MAIN-2019-26\",\n",
    "    \"CC-MAIN-2019-30\",\n",
    "    \"CC-MAIN-2019-35\",\n",
    "    \"CC-MAIN-2019-39\",\n",
    "    \"CC-MAIN-2019-43\",\n",
    "    \"CC-MAIN-2019-47\",\n",
    "    \"CC-MAIN-2019-51\",\n",
    "    \"CC-MAIN-2020-05\",\n",
    "    \"CC-MAIN-2020-10\",\n",
    "    \"CC-MAIN-2020-16\",\n",
    "    \"CC-MAIN-2020-24\",\n",
    "    \"CC-MAIN-2020-29\",\n",
    "    \"CC-MAIN-2020-34\",\n",
    "    \"CC-MAIN-2020-40\",\n",
    "    \"CC-MAIN-2020-45\",\n",
    "    \"CC-MAIN-2020-50\",\n",
    "    \"CC-MAIN-2021-04\",\n",
    "    \"CC-MAIN-2021-10\",\n",
    "    \"CC-MAIN-2021-17\",\n",
    "    \"CC-MAIN-2021-21\",\n",
    "    \"CC-MAIN-2021-25\",\n",
    "    \"CC-MAIN-2021-31\",\n",
    "    \"CC-MAIN-2021-39\",\n",
    "    \"CC-MAIN-2021-43\",\n",
    "    \"CC-MAIN-2021-49\",\n",
    "    \"CC-MAIN-2022-05\",\n",
    "    \"CC-MAIN-2022-21\",\n",
    "    \"CC-MAIN-2022-27\",\n",
    "    \"CC-MAIN-2022-33\",\n",
    "    \"CC-MAIN-2022-40\",\n",
    "    \"CC-MAIN-2022-49\",\n",
    "    \"CC-MAIN-2023-06\",\n",
    "    \"CC-MAIN-2023-14\",\n",
    "    \"CC-MAIN-2023-23\",\n",
    "    \"CC-MAIN-2023-40\",\n",
    "    \"CC-MAIN-2023-50\",\n",
    "    \"CC-MAIN-2024-10\",\n",
    "]\n",
    "\n",
    "sss={}\n",
    "\n",
    "for idx,subset in enumerate(FWE_SUBSETS):\n",
    "    try:\n",
    "        export_dir_dataset = os.path.join(export_dir,subset)\n",
    "        ss=load_dataset(export_dir_dataset)\n",
    "        assert ss.num_rows['train'] > 0\n",
    "        sss[subset]=ss\n",
    "    except:\n",
    "        pass"
   ]
  },
  {
   "cell_type": "code",
   "execution_count": null,
   "metadata": {},
   "outputs": [],
   "source": [
    "login()"
   ]
  },
  {
   "cell_type": "code",
   "execution_count": null,
   "metadata": {},
   "outputs": [],
   "source": [
    "# len(sss)\n",
    "\n",
    "# sss.keys()\n",
    "\n",
    "for ss in sss:\n",
    "    print(ss,sss[ss].num_rows['train'])\n",
    "    sss[ss].push_to_hub('chengjunyan1/fineweb-edu-4',data_dir='data/'+ss)\n",
    "\n"
   ]
  },
  {
   "cell_type": "code",
   "execution_count": 39,
   "metadata": {},
   "outputs": [
    {
     "name": "stderr",
     "output_type": "stream",
     "text": [
      "/home/junyanc/anaconda3/lib/python3.12/site-packages/datasets/load.py:2562: FutureWarning: 'ignore_verifications' was deprecated in favor of 'verification_mode' in version 2.9.1 and will be removed in 3.0.0.\n",
      "You can remove this warning by passing 'verification_mode=no_checks' instead.\n",
      "  warnings.warn(\n"
     ]
    },
    {
     "data": {
      "application/vnd.jupyter.widget-view+json": {
       "model_id": "a9f1c6f1e40f49e28212640f9d94b8ff",
       "version_major": 2,
       "version_minor": 0
      },
      "text/plain": [
       "Generating train split:   0%|          | 0/238079 [00:00<?, ? examples/s]"
      ]
     },
     "metadata": {},
     "output_type": "display_data"
    },
    {
     "name": "stdout",
     "output_type": "stream",
     "text": [
      "236427\n"
     ]
    }
   ],
   "source": [
    "\n",
    "for i in range(0,2):\n",
    "    # try:\n",
    "    fwe4=load_dataset(\n",
    "        'chengjunyan1/fineweb-edu-4',\n",
    "        data_dir='data/'+FWE_SUBSETS[i],\n",
    "        ignore_verifications=True\n",
    "    )\n",
    "    print(fwe4.num_rows['train']) \n",
    "    break   \n",
    "    # except Exception as e:\n",
    "    #     print(e)\n",
    "    #     pass\n",
    "\n",
    "\n"
   ]
  },
  {
   "cell_type": "code",
   "execution_count": 43,
   "metadata": {},
   "outputs": [
    {
     "data": {
      "text/plain": [
       "{'text': 'Mexican America - Introduction\\n\"Mexican America\" is a sampling of objects from the collections of the National Museum of American History. The stories behind these objects reflect the history of the Mexican presence in the United States. They illustrate a fundamentally American story about the centuries-old encounter between distinct (yet sometimes overlapping) communities that have coexisted but also clashed over land, culture, and livelihood.\\nWho, where, and what is Mexico? Over time, the definitions and boundaries of Mexico have changed. The Aztec Empire and the area where Náhautl was spoken—today the region surrounding modern Mexico City—was known as Mexico. For 300 years, the Spanish colonizers renamed it New Spain.\\nWhen Mexico was reborn in 1821 as a sovereign nation, its borders stretched from California to Guatemala. It was a huge and ancient land of ethnically, linguistically, and economically diverse regions that struggled for national unity. Texas, (then part of the Mexican state of Coahuila y Tejas) was a frontier region far from the dense cities and fertile valleys of central Mexico, a place where immigrants were recruited from the United States. The immigrants in turn declared the Mexican territory an independent republic in 1836 (later a U.S. state), making the state the first cauldron of Mexican American culture. By 1853, the government of Mexico, the weaker neighbor of an expansionist United States, had lost what are today the states of California, Nevada, Utah, Arizona, New Mexico, Texas, and parts of Colorado and Wyoming. In spite of the imposition of a new border, the historical and living presence of Spaniards, Mexicans, indigenous peoples, and their mixed descendants remained a defining force in the creation of the American West.\\n“La América Mexicana” es una muestra conformada por objetos provenientes de las distintas colecciones del Museo Nacional de Historia Americana. Estos objetos reflejan la historia de la presencia mexicana en los Estados Unidos e ilustran una crónica fundamentalmente americana acerca del encuentro centenario entre comunidades diferentes que han coexistido, pero que también se han enfrentado, en la pugna por la tierra, la cultura y el sustento.\\n¿Quién, dónde y qué es México? Con el transcurso del tiempo, las definiciones y los límites de México han ido cambiando. Se conocía como México al Imperio Azteca y toda el área donde se hablaba náhuatl —actualmente la región circundante a la ciudad de México. Durante 300 años los colonizadores españoles se refirieron a ella como Nueva España. Cuando en 1821 México resurgió como una nación soberana, sus fronteras se extendían desde California a Guatemala. En ese entonces era un antiguo e inmenso territorio conformado por regiones étnica, lingüística y económicamente diversas que luchaban por adquirir unidad nacional. Texas (en ese entonces parte de los estados mexicanos de Coahuila y Tejas) era una región fronteriza lejos de las densas urbes y de los fértiles valles de México central, donde se reclutaban inmigrantes de los Estados Unidos. En el año 1836 este territorio mexicano se declaró como república independiente (y más tarde, estado de EE.UU.), convirtiéndose en el primer calderón de la cultura mexicoamericana. Hacia 1853, el gobierno de México, el vecino débil de un Estados Unidos en expansión, había perdido el territorio de los actuales estados de California, Nevada, Utah, Arizona, Nuevo México, Texas y partes de Colorado y Wyoming. A pesar de la imposición de un nuevo límite fronterizo, la presencia histórica y ocupacional de los españoles, mexicanos y pueblos indígenas, junto a sus descendientes mestizos, constituiría a lo largo del tiempo una influencia determinante para el desarrollo del Oeste Americano.\\n\"Mexican America - Introduction\" showing 1 items.\\n- This print depicts American forces attacking the fortress palace of Chapultepec on Sept. 13th, 1847. General Winfield Scott, in the lower left on a white horse, led the southern division of the U.S. Army that successfully captured Mexico City during the Mexican American War. The outcome of American victory was the loss of Mexico\\'s northern territories, from California to New Mexico, by the terms set in the Treaty of Guadalupe Hidalgo. It should be noted that the two countries ratified different versions of the same peace treaty, with the United States ultimately eliminating provisions for honoring the land titles of its newly absorbed Mexican citizens. Despite notable opposition to the war from Americans like Abraham Lincoln, John Quincy Adams, and Henry David Thoreau, the Mexican-American War proved hugely popular. The United States\\' victory boosted American patriotism and the country\\'s belief in Manifest Destiny.\\n- This large chromolithograph was first distributed in 1848 by Nathaniel Currier of Currier and Ives, who served as the \"sole agent.\" The lithographers, Sarony & Major of New York (1846-1857) copied it from a painting by \"Walker.\" Unfortunately, the current location of original painting is unknown, however, when the print was made the original painting was owned by a Captain B. S. Roberts of the Mounted Rifles. The original artist has previously been attributed to William Aiken Walker as well as to Henry A. Walke. William Aiken Walker (ca 1838-1921) of Charleston did indeed do work for Currier and Ives, though not until the 1880\\'s and he would have only have been only 10 years old when this print was copyrighted. Henry Walke (1808/9-1896) was a naval combat artist during the Mexican American War who also worked with Sarony & Major and is best known for his Naval Portfolio.\\n- Most likely the original painting was done by James Walker (1819-1889) who created the \"Battle of Chapultepec\" 1857-1862 for the U.S. Capitol. This image differs from the painting commissioned for the U. S. Capitol by depicting the troops in regimented battle lines with General Scott in a more prominent position in the foreground. James Walker was living in Mexico City at the outbreak of the Mexican War and joined the American forces as an interpreter. He was attached to General Worth\\'s staff and was present at the battles of Contreras, Churubusco, and Chapultepec. The original painting\\'s owner, Captain Roberts was assigned General Winfield Scott to assist Walker with recreating the details of the battle of Chapultepec. When the painting was complete, Roberts purchased the painting. By 1848, James Walker had returned to New York and had a studio in New York City in the same neighborhood as the print\\'s distributor Nathaniel Currier as well as the lithographer\\'s Napoleon Sarony and Henry B. Major.\\n- This popular lithograph was one of several published to visually document the war while engaging the imagination of the public. Created prior to photography, these prints were meant to inform the public, while generally eliminating the portrayal of the more gory details. Historians have been able to use at least some prints of the Mexican War for study and to corroborate with the traditional literary forms of documentation. As an eyewitness, Walker could claim accuracy of detail within the narrative in his painting. The battle is presented in the grand, historic, heroic style with the brutality of war not portrayed. The print depiction is quite large for a chromo of the period. In creating the chromolithographic interpretation of the painting, Sarony & Major used at least four large stones to produce the print \"in colours,\" making the most of their use of color. They also defined each figure with precision by outlining each in black. This print was considered by expert/collector Harry T. Peters as one of the finest ever produced by Sarony & Major.\\n- Currently not on view\\n- Date made\\n- associated date\\n- Currier, Nathaniel\\n- Scott, Winfield\\n- Sarony & Major\\n- Walker, James\\n- ID Number\\n- catalog number\\n- accession number\\n- Data Source\\n- National Museum of American History, Kenneth E. Behring Center',\n",
       " 'id': '<urn:uuid:ff577d1a-83b8-467c-af1c-4c0aa2ead4fb>',\n",
       " 'dump': 'CC-MAIN-2013-20',\n",
       " 'url': 'http://americanhistory.si.edu/collections/object-groups/mexican-america?edan_start=0&edan_fq=date%3A%221840s%22',\n",
       " 'file_path': 's3://commoncrawl/crawl-data/CC-MAIN-2013-20/segments/1368696381249/warc/CC-MAIN-20130516092621-00000-ip-10-60-113-184.ec2.internal.warc.gz',\n",
       " 'language': 'en',\n",
       " 'language_score': 0.7762271761894226,\n",
       " 'token_count': 1938,\n",
       " 'score': 4.0625,\n",
       " 'int_score': 4}"
      ]
     },
     "execution_count": 43,
     "metadata": {},
     "output_type": "execute_result"
    }
   ],
   "source": [
    "fwe4['train'][0]"
   ]
  }
 ],
 "metadata": {
  "kernelspec": {
   "display_name": "base",
   "language": "python",
   "name": "python3"
  },
  "language_info": {
   "codemirror_mode": {
    "name": "ipython",
    "version": 3
   },
   "file_extension": ".py",
   "mimetype": "text/x-python",
   "name": "python",
   "nbconvert_exporter": "python",
   "pygments_lexer": "ipython3",
   "version": "3.12.4"
  }
 },
 "nbformat": 4,
 "nbformat_minor": 2
}
