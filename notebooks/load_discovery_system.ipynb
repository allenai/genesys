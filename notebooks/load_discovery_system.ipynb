{
 "cells": [
  {
   "cell_type": "code",
   "execution_count": 1,
   "id": "23c0a9d2-69c2-45b4-9bce-7ed25f39923d",
   "metadata": {},
   "outputs": [],
   "source": [
    "import sys \n",
    "sys.path.append('..')\n",
    "\n",
    "from model_discovery import BuildSystem"
   ]
  },
  {
   "cell_type": "code",
   "execution_count": 2,
   "id": "1ca3c4c0-acf5-46ef-ad82-accdc6e180fa",
   "metadata": {},
   "outputs": [
    {
     "name": "stderr",
     "output_type": "stream",
     "text": [
      "INFO:exec_utils.base.DesignerAgent:Agent name=`designer`, model_details={\n",
      "    \"model_name\": \"gpt-4o-2024-05-13\",\n",
      "    \"max_output_tokens\": 1000\n",
      "}\n",
      "INFO:exec_utils.base.DesignerAgent:Set up disk caching, loc=/Users/kyler/.cache/42_DesignerAgent_ecd9ab34_OpenAIModel_ecd9ab34\n",
      "INFO:exec_utils.base.ReviewerAgent:Agent name=`reviewer`, model_details={}\n",
      "INFO:exec_utils.base.ReviewerAgent:Set up disk caching, loc=/Users/kyler/.cache/42_ReviewerAgent_c455ec49_OpenAIModel_c455ec49\n"
     ]
    }
   ],
   "source": [
    "system = BuildSystem(\n",
    "    debug_steps=True,\n",
    "    cache_type=\"diskcache\", #<-- agent caching method \n",
    "    temperature=0.1,\n",
    "    #no_caching=True\n",
    ")"
   ]
  },
  {
   "cell_type": "code",
   "execution_count": 3,
   "id": "250de595-2125-4e46-aff7-0c0261ca83ba",
   "metadata": {
    "scrolled": true
   },
   "outputs": [
    {
     "name": "stdout",
     "output_type": "stream",
     "text": [
      "DESIGNER CODE PROPOSED #=0:\n",
      "===================\n",
      " \n",
      "# gab.py\n",
      "\n",
      "import torch\n",
      "import torch.nn as nn\n",
      "\n",
      "class GAB(nn.Module):\n",
      "    \"\"\"Generalized Autoregressive Block\n",
      "        Input:        X: (batch, seqlen, embed_dim)\n",
      "        Output:       Y: (batch, seqlen, embed_dim)\n",
      "        Constraints:  Causal, differentiable, parameter number, complexity, parallelizable\n",
      "    \"\"\"\n",
      "    def __init__(self, embed_dim: int, layer_idx: int, device=None, dtype=None, **kwargs):\n",
      "        # argv: list of hyperparameters\n",
      "        factory_kwargs = {\"device\": device, \"dtype\": dtype} # remember to pass it to nn layers\n",
      "        super().__init__()\n",
      "        self.embed_dim = embed_dim\n",
      "        self.layer_idx = layer_idx \n",
      "\n",
      "        # Define different types of blocks based on layer_idx\n",
      "        if layer_idx % 3 == 0:\n",
      "            self.block = nn.Sequential(\n",
      "                nn.Linear(embed_dim, embed_dim, **factory_kwargs),\n",
      "                nn.ReLU(),\n",
      "                nn.Linear(embed_dim, embed_dim, **factory_kwargs)\n",
      "            )\n",
      "        elif layer_idx % 3 == 1:\n",
      "            self.block = nn.Sequential(\n",
      "                nn.Conv1d(embed_dim, embed_dim, kernel_size=3, padding=1, **factory_kwargs),\n",
      "                nn.GELU(),\n",
      "                nn.Conv1d(embed_dim, embed_dim, kernel_size=3, padding=1, **factory_kwargs)\n",
      "            )\n",
      "        else:\n",
      "            self.block = nn.Sequential(\n",
      "                nn.Linear(embed_dim, embed_dim, **factory_kwargs),\n",
      "                nn.Sigmoid(),\n",
      "                nn.Linear(embed_dim, embed_dim, **factory_kwargs)\n",
      "            )\n",
      "\n",
      "    def _forward(self, X, **kwargs):\n",
      "        \"\"\"Forward pass of the model\"\"\"\n",
      "        assert X.shape[-1] == self.embed_dim\n",
      "\n",
      "        if isinstance(self.block[0], nn.Conv1d):\n",
      "            X = X.permute(0, 2, 1)  # (batch, embed_dim, seqlen) for Conv1d\n",
      "            Y = self.block(X)\n",
      "            Y = Y.permute(0, 2, 1)  # (batch, seqlen, embed_dim) back to original\n",
      "        else:\n",
      "            Y = self.block(X)\n",
      "        \n",
      "        return Y\n",
      "     \n",
      "    def forward(self, X, **kwargs):\n",
      "        \"\"\"Forward pass of the model\"\"\"\n",
      "        Y = self._forward(X, **kwargs)\n",
      "        assert Y.shape[-1] == self.embed_dim\n",
      "        return Y\n",
      "    \n",
      "def gab_config() -> dict:\n",
      "    \"\"\"Returns a dictionary of hyperparameters for constructing a GAB layer\n",
      "        embed_dim, layer_idx, device, dtype should not be included in the dictionary which will be provided by the model\n",
      "    \"\"\"\n",
      "    config = {\n",
      "        \"param_magnitude\": 10000000.0,\n",
      "        \"param_threshold\": 0.2,\n",
      "    }\n",
      "    return config\n",
      "\n"
     ]
    },
    {
     "name": "stderr",
     "output_type": "stream",
     "text": [
      "INFO:exec_utils.base.Checker:Model initialization succeed\n",
      "Number of parameters: 9509376\n",
      "Layers: 1316864, 219477 per layer\n",
      "Embedding: 8192000\n",
      "INFO:exec_utils.base.Checker:Checking causality... It checks the causality by changing the future step X[t+delta] of X[t] and see if Y[t] changes.\n",
      "Causality test: 100%|\u001b[32m████████████████████████████████████████████████████████████████████████████\u001b[0m| 100/100 [00:04<00:00, 22.72it/s]\u001b[0m\n",
      "INFO:exec_utils.base.Checker:Causality test passed\n",
      "INFO:exec_utils.base.Checker:Checking differentiability...\n",
      "INFO:exec_utils.base.Checker:Differentiability test passed\n",
      "INFO:exec_utils.base.Checker:All tests passed!\n",
      "\n"
     ]
    },
    {
     "name": "stdout",
     "output_type": "stream",
     "text": [
      "CODE CHECKER.....\n",
      "-----------------\n",
      "pass=True\n",
      "Model initialization succeed\n",
      "Number of parameters: 9509376\n",
      "Layers: 1316864, 219477 per layer\n",
      "Embedding: 8192000\n",
      "Checking causality... It checks the causality by changing the future step X[t+delta] of X[t] and see if Y[t] changes.\n",
      "Causality test passed\n",
      "Checking differentiability...\n",
      "Differentiability test passed\n",
      "All tests passed!\n",
      "\n",
      "\n"
     ]
    }
   ],
   "source": [
    "system(None)"
   ]
  },
  {
   "cell_type": "code",
   "execution_count": null,
   "id": "5e6a469c-97da-49f0-bf2d-45888f974cb6",
   "metadata": {},
   "outputs": [],
   "source": []
  }
 ],
 "metadata": {
  "kernelspec": {
   "display_name": "Python 3 (ipykernel)",
   "language": "python",
   "name": "python3"
  },
  "language_info": {
   "codemirror_mode": {
    "name": "ipython",
    "version": 3
   },
   "file_extension": ".py",
   "mimetype": "text/x-python",
   "name": "python",
   "nbconvert_exporter": "python",
   "pygments_lexer": "ipython3",
   "version": "3.10.14"
  }
 },
 "nbformat": 4,
 "nbformat_minor": 5
}
