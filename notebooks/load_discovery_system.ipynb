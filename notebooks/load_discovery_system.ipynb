{
 "cells": [
  {
   "cell_type": "code",
   "execution_count": 1,
   "id": "23c0a9d2-69c2-45b4-9bce-7ed25f39923d",
   "metadata": {},
   "outputs": [],
   "source": [
    "import sys \n",
    "sys.path.append('..')\n",
    "\n",
    "from model_discovery import BuildSystem\n",
    "from model_discovery.evolution import BuildEvolution"
   ]
  },
  {
   "cell_type": "code",
   "execution_count": null,
   "id": "4c12a77f-18c7-42cd-98ba-66167414c94a",
   "metadata": {},
   "outputs": [],
   "source": [
    "system = BuildSystem(\n",
    "    debug_steps=True,\n",
    "    cache_type=\"diskcache\", #<-- agent caching method \n",
    "    temperature=0.1,\n",
    "    jupyter=True,\n",
    "    cache_id=919,\n",
    "    #from_json='/path/to/config'\n",
    ")"
   ]
  },
  {
   "cell_type": "code",
   "execution_count": null,
   "id": "bd64d7b9-f39d-4eeb-96cc-224d9797f805",
   "metadata": {
    "scrolled": true
   },
   "outputs": [],
   "source": [
    "system(None)"
   ]
  },
  {
   "cell_type": "code",
   "execution_count": null,
   "id": "dd161152-fa05-468a-a2b4-35e50082b7e6",
   "metadata": {},
   "outputs": [],
   "source": [
    "evolution_system = BuildEvolution(\n",
    "    #scales='10m,75'\n",
    "    no_caching=True\n",
    ")"
   ]
  },
  {
   "cell_type": "code",
   "execution_count": null,
   "id": "91f471d6-2861-457c-a020-6b70c85143ed",
   "metadata": {},
   "outputs": [],
   "source": []
  }
 ],
 "metadata": {
  "kernelspec": {
   "display_name": "Python 3 (ipykernel)",
   "language": "python",
   "name": "python3"
  },
  "language_info": {
   "codemirror_mode": {
    "name": "ipython",
    "version": 3
   },
   "file_extension": ".py",
   "mimetype": "text/x-python",
   "name": "python",
   "nbconvert_exporter": "python",
   "pygments_lexer": "ipython3",
   "version": "3.10.14"
  }
 },
 "nbformat": 4,
 "nbformat_minor": 5
}
